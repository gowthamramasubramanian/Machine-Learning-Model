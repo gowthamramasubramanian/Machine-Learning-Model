{
 "cells": [
  {
   "cell_type": "code",
   "execution_count": 1,
   "id": "0e879108",
   "metadata": {},
   "outputs": [],
   "source": [
    "import numpy as np\n",
    "import pandas as pd\n",
    "import seaborn as sns\n",
    "import matplotlib.pyplot as plt\n",
    "from sklearn.model_selection import train_test_split\n",
    "from sklearn.preprocessing import MinMaxScaler"
   ]
  },
  {
   "cell_type": "code",
   "execution_count": 2,
   "id": "932eaa7c",
   "metadata": {},
   "outputs": [],
   "source": [
    "df_la=pd.read_csv(\"loanapproval.csv\")"
   ]
  },
  {
   "cell_type": "code",
   "execution_count": 3,
   "id": "0ac70cd5",
   "metadata": {},
   "outputs": [
    {
     "data": {
      "text/html": [
       "<div>\n",
       "<style scoped>\n",
       "    .dataframe tbody tr th:only-of-type {\n",
       "        vertical-align: middle;\n",
       "    }\n",
       "\n",
       "    .dataframe tbody tr th {\n",
       "        vertical-align: top;\n",
       "    }\n",
       "\n",
       "    .dataframe thead th {\n",
       "        text-align: right;\n",
       "    }\n",
       "</style>\n",
       "<table border=\"1\" class=\"dataframe\">\n",
       "  <thead>\n",
       "    <tr style=\"text-align: right;\">\n",
       "      <th></th>\n",
       "      <th>loan_id</th>\n",
       "      <th>no_of_dependents</th>\n",
       "      <th>education</th>\n",
       "      <th>self_employed</th>\n",
       "      <th>income_annum</th>\n",
       "      <th>loan_amount</th>\n",
       "      <th>loan_term</th>\n",
       "      <th>cibil_score</th>\n",
       "      <th>residential_assets_value</th>\n",
       "      <th>commercial_assets_value</th>\n",
       "      <th>luxury_assets_value</th>\n",
       "      <th>bank_asset_value</th>\n",
       "      <th>loan_status</th>\n",
       "    </tr>\n",
       "  </thead>\n",
       "  <tbody>\n",
       "    <tr>\n",
       "      <th>0</th>\n",
       "      <td>1</td>\n",
       "      <td>2</td>\n",
       "      <td>Graduate</td>\n",
       "      <td>No</td>\n",
       "      <td>9600000</td>\n",
       "      <td>29900000</td>\n",
       "      <td>12</td>\n",
       "      <td>778</td>\n",
       "      <td>2400000</td>\n",
       "      <td>17600000</td>\n",
       "      <td>22700000</td>\n",
       "      <td>8000000</td>\n",
       "      <td>Approved</td>\n",
       "    </tr>\n",
       "    <tr>\n",
       "      <th>1</th>\n",
       "      <td>2</td>\n",
       "      <td>0</td>\n",
       "      <td>Not Graduate</td>\n",
       "      <td>Yes</td>\n",
       "      <td>4100000</td>\n",
       "      <td>12200000</td>\n",
       "      <td>8</td>\n",
       "      <td>417</td>\n",
       "      <td>2700000</td>\n",
       "      <td>2200000</td>\n",
       "      <td>8800000</td>\n",
       "      <td>3300000</td>\n",
       "      <td>Rejected</td>\n",
       "    </tr>\n",
       "    <tr>\n",
       "      <th>2</th>\n",
       "      <td>3</td>\n",
       "      <td>3</td>\n",
       "      <td>Graduate</td>\n",
       "      <td>No</td>\n",
       "      <td>9100000</td>\n",
       "      <td>29700000</td>\n",
       "      <td>20</td>\n",
       "      <td>506</td>\n",
       "      <td>7100000</td>\n",
       "      <td>4500000</td>\n",
       "      <td>33300000</td>\n",
       "      <td>12800000</td>\n",
       "      <td>Rejected</td>\n",
       "    </tr>\n",
       "    <tr>\n",
       "      <th>3</th>\n",
       "      <td>4</td>\n",
       "      <td>3</td>\n",
       "      <td>Graduate</td>\n",
       "      <td>No</td>\n",
       "      <td>8200000</td>\n",
       "      <td>30700000</td>\n",
       "      <td>8</td>\n",
       "      <td>467</td>\n",
       "      <td>18200000</td>\n",
       "      <td>3300000</td>\n",
       "      <td>23300000</td>\n",
       "      <td>7900000</td>\n",
       "      <td>Rejected</td>\n",
       "    </tr>\n",
       "    <tr>\n",
       "      <th>4</th>\n",
       "      <td>5</td>\n",
       "      <td>5</td>\n",
       "      <td>Not Graduate</td>\n",
       "      <td>Yes</td>\n",
       "      <td>9800000</td>\n",
       "      <td>24200000</td>\n",
       "      <td>20</td>\n",
       "      <td>382</td>\n",
       "      <td>12400000</td>\n",
       "      <td>8200000</td>\n",
       "      <td>29400000</td>\n",
       "      <td>5000000</td>\n",
       "      <td>Rejected</td>\n",
       "    </tr>\n",
       "    <tr>\n",
       "      <th>5</th>\n",
       "      <td>6</td>\n",
       "      <td>0</td>\n",
       "      <td>Graduate</td>\n",
       "      <td>Yes</td>\n",
       "      <td>4800000</td>\n",
       "      <td>13500000</td>\n",
       "      <td>10</td>\n",
       "      <td>319</td>\n",
       "      <td>6800000</td>\n",
       "      <td>8300000</td>\n",
       "      <td>13700000</td>\n",
       "      <td>5100000</td>\n",
       "      <td>Rejected</td>\n",
       "    </tr>\n",
       "    <tr>\n",
       "      <th>6</th>\n",
       "      <td>7</td>\n",
       "      <td>5</td>\n",
       "      <td>Graduate</td>\n",
       "      <td>No</td>\n",
       "      <td>8700000</td>\n",
       "      <td>33000000</td>\n",
       "      <td>4</td>\n",
       "      <td>678</td>\n",
       "      <td>22500000</td>\n",
       "      <td>14800000</td>\n",
       "      <td>29200000</td>\n",
       "      <td>4300000</td>\n",
       "      <td>Approved</td>\n",
       "    </tr>\n",
       "    <tr>\n",
       "      <th>7</th>\n",
       "      <td>8</td>\n",
       "      <td>2</td>\n",
       "      <td>Graduate</td>\n",
       "      <td>Yes</td>\n",
       "      <td>5700000</td>\n",
       "      <td>15000000</td>\n",
       "      <td>20</td>\n",
       "      <td>382</td>\n",
       "      <td>13200000</td>\n",
       "      <td>5700000</td>\n",
       "      <td>11800000</td>\n",
       "      <td>6000000</td>\n",
       "      <td>Rejected</td>\n",
       "    </tr>\n",
       "    <tr>\n",
       "      <th>8</th>\n",
       "      <td>9</td>\n",
       "      <td>0</td>\n",
       "      <td>Graduate</td>\n",
       "      <td>Yes</td>\n",
       "      <td>800000</td>\n",
       "      <td>2200000</td>\n",
       "      <td>20</td>\n",
       "      <td>782</td>\n",
       "      <td>1300000</td>\n",
       "      <td>800000</td>\n",
       "      <td>2800000</td>\n",
       "      <td>600000</td>\n",
       "      <td>Approved</td>\n",
       "    </tr>\n",
       "    <tr>\n",
       "      <th>9</th>\n",
       "      <td>10</td>\n",
       "      <td>5</td>\n",
       "      <td>Not Graduate</td>\n",
       "      <td>No</td>\n",
       "      <td>1100000</td>\n",
       "      <td>4300000</td>\n",
       "      <td>10</td>\n",
       "      <td>388</td>\n",
       "      <td>3200000</td>\n",
       "      <td>1400000</td>\n",
       "      <td>3300000</td>\n",
       "      <td>1600000</td>\n",
       "      <td>Rejected</td>\n",
       "    </tr>\n",
       "  </tbody>\n",
       "</table>\n",
       "</div>"
      ],
      "text/plain": [
       "   loan_id   no_of_dependents      education  self_employed   income_annum  \\\n",
       "0        1                  2       Graduate             No        9600000   \n",
       "1        2                  0   Not Graduate            Yes        4100000   \n",
       "2        3                  3       Graduate             No        9100000   \n",
       "3        4                  3       Graduate             No        8200000   \n",
       "4        5                  5   Not Graduate            Yes        9800000   \n",
       "5        6                  0       Graduate            Yes        4800000   \n",
       "6        7                  5       Graduate             No        8700000   \n",
       "7        8                  2       Graduate            Yes        5700000   \n",
       "8        9                  0       Graduate            Yes         800000   \n",
       "9       10                  5   Not Graduate             No        1100000   \n",
       "\n",
       "    loan_amount   loan_term   cibil_score   residential_assets_value  \\\n",
       "0      29900000          12           778                    2400000   \n",
       "1      12200000           8           417                    2700000   \n",
       "2      29700000          20           506                    7100000   \n",
       "3      30700000           8           467                   18200000   \n",
       "4      24200000          20           382                   12400000   \n",
       "5      13500000          10           319                    6800000   \n",
       "6      33000000           4           678                   22500000   \n",
       "7      15000000          20           382                   13200000   \n",
       "8       2200000          20           782                    1300000   \n",
       "9       4300000          10           388                    3200000   \n",
       "\n",
       "    commercial_assets_value   luxury_assets_value   bank_asset_value  \\\n",
       "0                  17600000              22700000            8000000   \n",
       "1                   2200000               8800000            3300000   \n",
       "2                   4500000              33300000           12800000   \n",
       "3                   3300000              23300000            7900000   \n",
       "4                   8200000              29400000            5000000   \n",
       "5                   8300000              13700000            5100000   \n",
       "6                  14800000              29200000            4300000   \n",
       "7                   5700000              11800000            6000000   \n",
       "8                    800000               2800000             600000   \n",
       "9                   1400000               3300000            1600000   \n",
       "\n",
       "   loan_status  \n",
       "0     Approved  \n",
       "1     Rejected  \n",
       "2     Rejected  \n",
       "3     Rejected  \n",
       "4     Rejected  \n",
       "5     Rejected  \n",
       "6     Approved  \n",
       "7     Rejected  \n",
       "8     Approved  \n",
       "9     Rejected  "
      ]
     },
     "execution_count": 3,
     "metadata": {},
     "output_type": "execute_result"
    }
   ],
   "source": [
    "df_la.head(10)"
   ]
  },
  {
   "cell_type": "code",
   "execution_count": 4,
   "id": "5e03ba5b",
   "metadata": {},
   "outputs": [
    {
     "data": {
      "text/plain": [
       "(4269, 13)"
      ]
     },
     "execution_count": 4,
     "metadata": {},
     "output_type": "execute_result"
    }
   ],
   "source": [
    "df_la.shape"
   ]
  },
  {
   "cell_type": "code",
   "execution_count": 5,
   "id": "fb7b6802",
   "metadata": {},
   "outputs": [
    {
     "data": {
      "text/plain": [
       "loan_id                       int64\n",
       " no_of_dependents             int64\n",
       " education                   object\n",
       " self_employed               object\n",
       " income_annum                 int64\n",
       " loan_amount                  int64\n",
       " loan_term                    int64\n",
       " cibil_score                  int64\n",
       " residential_assets_value     int64\n",
       " commercial_assets_value      int64\n",
       " luxury_assets_value          int64\n",
       " bank_asset_value             int64\n",
       " loan_status                 object\n",
       "dtype: object"
      ]
     },
     "execution_count": 5,
     "metadata": {},
     "output_type": "execute_result"
    }
   ],
   "source": [
    "df_la.dtypes"
   ]
  },
  {
   "cell_type": "code",
   "execution_count": 6,
   "id": "187e16d4",
   "metadata": {},
   "outputs": [
    {
     "name": "stdout",
     "output_type": "stream",
     "text": [
      "<class 'pandas.core.frame.DataFrame'>\n",
      "RangeIndex: 4269 entries, 0 to 4268\n",
      "Data columns (total 13 columns):\n",
      " #   Column                     Non-Null Count  Dtype \n",
      "---  ------                     --------------  ----- \n",
      " 0   loan_id                    4269 non-null   int64 \n",
      " 1    no_of_dependents          4269 non-null   int64 \n",
      " 2    education                 4269 non-null   object\n",
      " 3    self_employed             4269 non-null   object\n",
      " 4    income_annum              4269 non-null   int64 \n",
      " 5    loan_amount               4269 non-null   int64 \n",
      " 6    loan_term                 4269 non-null   int64 \n",
      " 7    cibil_score               4269 non-null   int64 \n",
      " 8    residential_assets_value  4269 non-null   int64 \n",
      " 9    commercial_assets_value   4269 non-null   int64 \n",
      " 10   luxury_assets_value       4269 non-null   int64 \n",
      " 11   bank_asset_value          4269 non-null   int64 \n",
      " 12   loan_status               4269 non-null   object\n",
      "dtypes: int64(10), object(3)\n",
      "memory usage: 433.7+ KB\n"
     ]
    }
   ],
   "source": [
    "df_la.info()"
   ]
  },
  {
   "cell_type": "code",
   "execution_count": 7,
   "id": "e88aeb48",
   "metadata": {},
   "outputs": [
    {
     "name": "stdout",
     "output_type": "stream",
     "text": [
      "Index(['loan_id', ' no_of_dependents', ' education', ' self_employed',\n",
      "       ' income_annum', ' loan_amount', ' loan_term', ' cibil_score',\n",
      "       ' residential_assets_value', ' commercial_assets_value',\n",
      "       ' luxury_assets_value', ' bank_asset_value', ' loan_status'],\n",
      "      dtype='object')\n"
     ]
    }
   ],
   "source": [
    "print(df_la.columns)"
   ]
  },
  {
   "cell_type": "code",
   "execution_count": 8,
   "id": "0b84185f",
   "metadata": {},
   "outputs": [
    {
     "data": {
      "text/html": [
       "<div>\n",
       "<style scoped>\n",
       "    .dataframe tbody tr th:only-of-type {\n",
       "        vertical-align: middle;\n",
       "    }\n",
       "\n",
       "    .dataframe tbody tr th {\n",
       "        vertical-align: top;\n",
       "    }\n",
       "\n",
       "    .dataframe thead th {\n",
       "        text-align: right;\n",
       "    }\n",
       "</style>\n",
       "<table border=\"1\" class=\"dataframe\">\n",
       "  <thead>\n",
       "    <tr style=\"text-align: right;\">\n",
       "      <th></th>\n",
       "      <th>loan_id</th>\n",
       "      <th>no_of_dependents</th>\n",
       "      <th>income_annum</th>\n",
       "      <th>loan_amount</th>\n",
       "      <th>loan_term</th>\n",
       "      <th>cibil_score</th>\n",
       "      <th>residential_assets_value</th>\n",
       "      <th>commercial_assets_value</th>\n",
       "      <th>luxury_assets_value</th>\n",
       "      <th>bank_asset_value</th>\n",
       "    </tr>\n",
       "  </thead>\n",
       "  <tbody>\n",
       "    <tr>\n",
       "      <th>count</th>\n",
       "      <td>4269.000000</td>\n",
       "      <td>4269.000000</td>\n",
       "      <td>4.269000e+03</td>\n",
       "      <td>4.269000e+03</td>\n",
       "      <td>4269.000000</td>\n",
       "      <td>4269.000000</td>\n",
       "      <td>4.269000e+03</td>\n",
       "      <td>4.269000e+03</td>\n",
       "      <td>4.269000e+03</td>\n",
       "      <td>4.269000e+03</td>\n",
       "    </tr>\n",
       "    <tr>\n",
       "      <th>mean</th>\n",
       "      <td>2135.000000</td>\n",
       "      <td>2.498712</td>\n",
       "      <td>5.059124e+06</td>\n",
       "      <td>1.513345e+07</td>\n",
       "      <td>10.900445</td>\n",
       "      <td>599.936051</td>\n",
       "      <td>7.472617e+06</td>\n",
       "      <td>4.973155e+06</td>\n",
       "      <td>1.512631e+07</td>\n",
       "      <td>4.976692e+06</td>\n",
       "    </tr>\n",
       "    <tr>\n",
       "      <th>std</th>\n",
       "      <td>1232.498479</td>\n",
       "      <td>1.695910</td>\n",
       "      <td>2.806840e+06</td>\n",
       "      <td>9.043363e+06</td>\n",
       "      <td>5.709187</td>\n",
       "      <td>172.430401</td>\n",
       "      <td>6.503637e+06</td>\n",
       "      <td>4.388966e+06</td>\n",
       "      <td>9.103754e+06</td>\n",
       "      <td>3.250185e+06</td>\n",
       "    </tr>\n",
       "    <tr>\n",
       "      <th>min</th>\n",
       "      <td>1.000000</td>\n",
       "      <td>0.000000</td>\n",
       "      <td>2.000000e+05</td>\n",
       "      <td>3.000000e+05</td>\n",
       "      <td>2.000000</td>\n",
       "      <td>300.000000</td>\n",
       "      <td>-1.000000e+05</td>\n",
       "      <td>0.000000e+00</td>\n",
       "      <td>3.000000e+05</td>\n",
       "      <td>0.000000e+00</td>\n",
       "    </tr>\n",
       "    <tr>\n",
       "      <th>25%</th>\n",
       "      <td>1068.000000</td>\n",
       "      <td>1.000000</td>\n",
       "      <td>2.700000e+06</td>\n",
       "      <td>7.700000e+06</td>\n",
       "      <td>6.000000</td>\n",
       "      <td>453.000000</td>\n",
       "      <td>2.200000e+06</td>\n",
       "      <td>1.300000e+06</td>\n",
       "      <td>7.500000e+06</td>\n",
       "      <td>2.300000e+06</td>\n",
       "    </tr>\n",
       "    <tr>\n",
       "      <th>50%</th>\n",
       "      <td>2135.000000</td>\n",
       "      <td>3.000000</td>\n",
       "      <td>5.100000e+06</td>\n",
       "      <td>1.450000e+07</td>\n",
       "      <td>10.000000</td>\n",
       "      <td>600.000000</td>\n",
       "      <td>5.600000e+06</td>\n",
       "      <td>3.700000e+06</td>\n",
       "      <td>1.460000e+07</td>\n",
       "      <td>4.600000e+06</td>\n",
       "    </tr>\n",
       "    <tr>\n",
       "      <th>75%</th>\n",
       "      <td>3202.000000</td>\n",
       "      <td>4.000000</td>\n",
       "      <td>7.500000e+06</td>\n",
       "      <td>2.150000e+07</td>\n",
       "      <td>16.000000</td>\n",
       "      <td>748.000000</td>\n",
       "      <td>1.130000e+07</td>\n",
       "      <td>7.600000e+06</td>\n",
       "      <td>2.170000e+07</td>\n",
       "      <td>7.100000e+06</td>\n",
       "    </tr>\n",
       "    <tr>\n",
       "      <th>max</th>\n",
       "      <td>4269.000000</td>\n",
       "      <td>5.000000</td>\n",
       "      <td>9.900000e+06</td>\n",
       "      <td>3.950000e+07</td>\n",
       "      <td>20.000000</td>\n",
       "      <td>900.000000</td>\n",
       "      <td>2.910000e+07</td>\n",
       "      <td>1.940000e+07</td>\n",
       "      <td>3.920000e+07</td>\n",
       "      <td>1.470000e+07</td>\n",
       "    </tr>\n",
       "  </tbody>\n",
       "</table>\n",
       "</div>"
      ],
      "text/plain": [
       "           loan_id   no_of_dependents   income_annum   loan_amount  \\\n",
       "count  4269.000000        4269.000000   4.269000e+03  4.269000e+03   \n",
       "mean   2135.000000           2.498712   5.059124e+06  1.513345e+07   \n",
       "std    1232.498479           1.695910   2.806840e+06  9.043363e+06   \n",
       "min       1.000000           0.000000   2.000000e+05  3.000000e+05   \n",
       "25%    1068.000000           1.000000   2.700000e+06  7.700000e+06   \n",
       "50%    2135.000000           3.000000   5.100000e+06  1.450000e+07   \n",
       "75%    3202.000000           4.000000   7.500000e+06  2.150000e+07   \n",
       "max    4269.000000           5.000000   9.900000e+06  3.950000e+07   \n",
       "\n",
       "         loan_term   cibil_score   residential_assets_value  \\\n",
       "count  4269.000000   4269.000000               4.269000e+03   \n",
       "mean     10.900445    599.936051               7.472617e+06   \n",
       "std       5.709187    172.430401               6.503637e+06   \n",
       "min       2.000000    300.000000              -1.000000e+05   \n",
       "25%       6.000000    453.000000               2.200000e+06   \n",
       "50%      10.000000    600.000000               5.600000e+06   \n",
       "75%      16.000000    748.000000               1.130000e+07   \n",
       "max      20.000000    900.000000               2.910000e+07   \n",
       "\n",
       "        commercial_assets_value   luxury_assets_value   bank_asset_value  \n",
       "count              4.269000e+03          4.269000e+03       4.269000e+03  \n",
       "mean               4.973155e+06          1.512631e+07       4.976692e+06  \n",
       "std                4.388966e+06          9.103754e+06       3.250185e+06  \n",
       "min                0.000000e+00          3.000000e+05       0.000000e+00  \n",
       "25%                1.300000e+06          7.500000e+06       2.300000e+06  \n",
       "50%                3.700000e+06          1.460000e+07       4.600000e+06  \n",
       "75%                7.600000e+06          2.170000e+07       7.100000e+06  \n",
       "max                1.940000e+07          3.920000e+07       1.470000e+07  "
      ]
     },
     "execution_count": 8,
     "metadata": {},
     "output_type": "execute_result"
    }
   ],
   "source": [
    "df_la.describe()"
   ]
  },
  {
   "cell_type": "code",
   "execution_count": 9,
   "id": "46bec169",
   "metadata": {},
   "outputs": [
    {
     "data": {
      "text/plain": [
       "Index(['loan_id', ' no_of_dependents', ' education', ' self_employed',\n",
       "       ' income_annum', ' loan_amount', ' loan_term', ' cibil_score',\n",
       "       ' residential_assets_value', ' commercial_assets_value',\n",
       "       ' luxury_assets_value', ' bank_asset_value', ' loan_status'],\n",
       "      dtype='object')"
      ]
     },
     "execution_count": 9,
     "metadata": {},
     "output_type": "execute_result"
    }
   ],
   "source": [
    "df_la.columns"
   ]
  },
  {
   "cell_type": "code",
   "execution_count": 10,
   "id": "fa49885f",
   "metadata": {},
   "outputs": [
    {
     "data": {
      "text/plain": [
       " Graduate        2144\n",
       " Not Graduate    2125\n",
       "Name:  education, dtype: int64"
      ]
     },
     "execution_count": 10,
     "metadata": {},
     "output_type": "execute_result"
    }
   ],
   "source": [
    "df_la[' education'].value_counts()"
   ]
  },
  {
   "cell_type": "code",
   "execution_count": 11,
   "id": "1ff50bb8",
   "metadata": {},
   "outputs": [
    {
     "data": {
      "text/plain": [
       " Yes    2150\n",
       " No     2119\n",
       "Name:  self_employed, dtype: int64"
      ]
     },
     "execution_count": 11,
     "metadata": {},
     "output_type": "execute_result"
    }
   ],
   "source": [
    "df_la[' self_employed'].value_counts()"
   ]
  },
  {
   "cell_type": "code",
   "execution_count": 12,
   "id": "386f44d4",
   "metadata": {},
   "outputs": [
    {
     "data": {
      "image/png": "[encoded data removed]",
      "text/plain": [
       "<Figure size 800x500 with 1 Axes>"
      ]
     },
     "metadata": {},
     "output_type": "display_data"
    }
   ],
   "source": [
    "plt.figure(figsize=(8, 5))\n",
    "sns.histplot(df_la[' cibil_score'], bins=20, kde=True)\n",
    "plt.title('Histogram of cibil score')\n",
    "plt.xlabel('cibil score')\n",
    "plt.ylabel('Frequency')\n",
    "plt.show()"
   ]
  },
  {
   "cell_type": "code",
   "execution_count": 13,
   "id": "a29d515a",
   "metadata": {},
   "outputs": [],
   "source": [
    "#OBSERVATIONS:\n",
    "#This Chart tells us that Cibil Score has Equal range of values "
   ]
  },
  {
   "cell_type": "code",
   "execution_count": 14,
   "id": "63fe3e04",
   "metadata": {},
   "outputs": [
    {
     "data": {
      "image/png": "[encoded data removed]",
      "text/plain": [
       "<Figure size 800x500 with 1 Axes>"
      ]
     },
     "metadata": {},
     "output_type": "display_data"
    }
   ],
   "source": [
    "plt.figure(figsize=(8, 5))\n",
    "sns.histplot(df_la[' income_annum'], bins=20, kde=True,color='red' )\n",
    "plt.title('Histogram of income annum')\n",
    "plt.xlabel('income annum')\n",
    "plt.ylabel('Frequency')\n",
    "plt.show()"
   ]
  },
  {
   "cell_type": "code",
   "execution_count": 15,
   "id": "7d438636",
   "metadata": {},
   "outputs": [
    {
     "data": {
      "image/png": "[encoded data removed]",
      "text/plain": [
       "<Figure size 800x500 with 1 Axes>"
      ]
     },
     "metadata": {},
     "output_type": "display_data"
    }
   ],
   "source": [
    "plt.figure(figsize=(8, 5))\n",
    "sns.histplot(df_la[' luxury_assets_value'], bins=20, kde=True)\n",
    "plt.title('Histogram of luxury assets value')\n",
    "plt.xlabel('luxury assets value')\n",
    "plt.ylabel('Frequency')\n",
    "plt.show()"
   ]
  },
  {
   "cell_type": "code",
   "execution_count": 16,
   "id": "b3d9917a",
   "metadata": {},
   "outputs": [],
   "source": [
    "#OBSERVATION:\n",
    "#The Chart implies that there are no outliers in luxury asset value."
   ]
  },
  {
   "cell_type": "code",
   "execution_count": 17,
   "id": "649e55b8",
   "metadata": {},
   "outputs": [
    {
     "data": {
      "image/png": "[encoded data removed]",
      "text/plain": [
       "<Figure size 800x500 with 1 Axes>"
      ]
     },
     "metadata": {},
     "output_type": "display_data"
    }
   ],
   "source": [
    "plt.figure(figsize=(8, 5))\n",
    "sns.boxplot(x=df_la[' income_annum'])\n",
    "plt.title('Box Plot of income annum')\n",
    "plt.xlabel('income annum')\n",
    "plt.show()\n"
   ]
  },
  {
   "cell_type": "code",
   "execution_count": 18,
   "id": "7e4abbd4",
   "metadata": {},
   "outputs": [],
   "source": [
    "#OBSERVATION:\n",
    "#This chart clearly tells us it is free from outliers."
   ]
  },
  {
   "cell_type": "code",
   "execution_count": 19,
   "id": "78c74824",
   "metadata": {},
   "outputs": [
    {
     "data": {
      "image/png": "[encoded data removed]",
      "text/plain": [
       "<Figure size 800x500 with 1 Axes>"
      ]
     },
     "metadata": {},
     "output_type": "display_data"
    }
   ],
   "source": [
    "plt.figure(figsize=(8, 5))\n",
    "sns.boxplot(x=df_la[' bank_asset_value'])\n",
    "plt.title('Box Plot of bank asset value')\n",
    "plt.xlabel('bank asset value')\n",
    "plt.show()"
   ]
  },
  {
   "cell_type": "code",
   "execution_count": 20,
   "id": "cd57cfd0",
   "metadata": {},
   "outputs": [],
   "source": [
    "#OBSERVATION:\n",
    "#This chart clearly explains us the presence of outliers in the upper bound region but less in number."
   ]
  },
  {
   "cell_type": "code",
   "execution_count": 21,
   "id": "979aefdf",
   "metadata": {},
   "outputs": [
    {
     "data": {
      "image/png": "[encoded data removed]",
      "text/plain": [
       "<Figure size 800x500 with 1 Axes>"
      ]
     },
     "metadata": {},
     "output_type": "display_data"
    }
   ],
   "source": [
    "plt.figure(figsize=(8, 5))\n",
    "sns.boxplot(x=df_la[' commercial_assets_value'])\n",
    "plt.title('Box Plot of commercial assets value')\n",
    "plt.xlabel('commercial assets value')\n",
    "plt.show()"
   ]
  },
  {
   "cell_type": "code",
   "execution_count": 22,
   "id": "0fb4ac46",
   "metadata": {},
   "outputs": [],
   "source": [
    "#OBSERVATION\n",
    "#from this we can infer that there are more number of outliers but present in a nearby range"
   ]
  },
  {
   "cell_type": "code",
   "execution_count": 23,
   "id": "4eb60e89",
   "metadata": {},
   "outputs": [
    {
     "data": {
      "image/png": "[encoded data removed]",
      "text/plain": [
       "<Figure size 800x500 with 1 Axes>"
      ]
     },
     "metadata": {},
     "output_type": "display_data"
    }
   ],
   "source": [
    "plt.figure(figsize=(8, 5))\n",
    "sns.boxplot(x=df_la[' residential_assets_value'])\n",
    "plt.title('Box Plot of residential assets value')\n",
    "plt.xlabel('residential assets value')\n",
    "plt.show()"
   ]
  },
  {
   "cell_type": "code",
   "execution_count": 24,
   "id": "e0ee7f08",
   "metadata": {},
   "outputs": [],
   "source": [
    "#OBSERVATION:\n",
    "#This depicts us the presence of outliers."
   ]
  },
  {
   "cell_type": "code",
   "execution_count": 25,
   "id": "8a399516",
   "metadata": {},
   "outputs": [
    {
     "data": {
      "image/png": "[encoded data removed]",
      "text/plain": [
       "<Figure size 800x500 with 1 Axes>"
      ]
     },
     "metadata": {},
     "output_type": "display_data"
    }
   ],
   "source": [
    "plt.figure(figsize=(8, 5))\n",
    "sns.boxplot(x=df_la[' luxury_assets_value'])\n",
    "plt.title('Box Plot of luxury assets value')\n",
    "plt.xlabel('luxury assets value')\n",
    "plt.show()"
   ]
  },
  {
   "cell_type": "code",
   "execution_count": 26,
   "id": "f51cfb36",
   "metadata": {},
   "outputs": [],
   "source": [
    "#OBSERVATION:\n",
    "#This tells us the column is free from outliers and has a good range of values."
   ]
  },
  {
   "cell_type": "markdown",
   "id": "1b74ceb6",
   "metadata": {},
   "source": [
    "#  Data preprocessing"
   ]
  },
  {
   "cell_type": "code",
   "execution_count": null,
   "id": "9319ea7c",
   "metadata": {},
   "outputs": [],
   "source": [
    "df_la = df_la.drop(columns=['loan_id'])"
   ]
  },
  {
   "cell_type": "code",
   "execution_count": 33,
   "id": "2dd00861",
   "metadata": {},
   "outputs": [
    {
     "data": {
      "text/html": [
       "<div>\n",
       "<style scoped>\n",
       "    .dataframe tbody tr th:only-of-type {\n",
       "        vertical-align: middle;\n",
       "    }\n",
       "\n",
       "    .dataframe tbody tr th {\n",
       "        vertical-align: top;\n",
       "    }\n",
       "\n",
       "    .dataframe thead th {\n",
       "        text-align: right;\n",
       "    }\n",
       "</style>\n",
       "<table border=\"1\" class=\"dataframe\">\n",
       "  <thead>\n",
       "    <tr style=\"text-align: right;\">\n",
       "      <th></th>\n",
       "      <th>no_of_dependents</th>\n",
       "      <th>education</th>\n",
       "      <th>self_employed</th>\n",
       "      <th>income_annum</th>\n",
       "      <th>loan_amount</th>\n",
       "      <th>loan_term</th>\n",
       "      <th>cibil_score</th>\n",
       "      <th>residential_assets_value</th>\n",
       "      <th>commercial_assets_value</th>\n",
       "      <th>luxury_assets_value</th>\n",
       "      <th>bank_asset_value</th>\n",
       "      <th>loan_status</th>\n",
       "    </tr>\n",
       "  </thead>\n",
       "  <tbody>\n",
       "    <tr>\n",
       "      <th>0</th>\n",
       "      <td>2</td>\n",
       "      <td>Graduate</td>\n",
       "      <td>No</td>\n",
       "      <td>9600000</td>\n",
       "      <td>29900000</td>\n",
       "      <td>12</td>\n",
       "      <td>778</td>\n",
       "      <td>2400000</td>\n",
       "      <td>17600000</td>\n",
       "      <td>22700000</td>\n",
       "      <td>8000000</td>\n",
       "      <td>Approved</td>\n",
       "    </tr>\n",
       "    <tr>\n",
       "      <th>1</th>\n",
       "      <td>0</td>\n",
       "      <td>Not Graduate</td>\n",
       "      <td>Yes</td>\n",
       "      <td>4100000</td>\n",
       "      <td>12200000</td>\n",
       "      <td>8</td>\n",
       "      <td>417</td>\n",
       "      <td>2700000</td>\n",
       "      <td>2200000</td>\n",
       "      <td>8800000</td>\n",
       "      <td>3300000</td>\n",
       "      <td>Rejected</td>\n",
       "    </tr>\n",
       "    <tr>\n",
       "      <th>2</th>\n",
       "      <td>3</td>\n",
       "      <td>Graduate</td>\n",
       "      <td>No</td>\n",
       "      <td>9100000</td>\n",
       "      <td>29700000</td>\n",
       "      <td>20</td>\n",
       "      <td>506</td>\n",
       "      <td>7100000</td>\n",
       "      <td>4500000</td>\n",
       "      <td>33300000</td>\n",
       "      <td>12800000</td>\n",
       "      <td>Rejected</td>\n",
       "    </tr>\n",
       "    <tr>\n",
       "      <th>3</th>\n",
       "      <td>3</td>\n",
       "      <td>Graduate</td>\n",
       "      <td>No</td>\n",
       "      <td>8200000</td>\n",
       "      <td>30700000</td>\n",
       "      <td>8</td>\n",
       "      <td>467</td>\n",
       "      <td>18200000</td>\n",
       "      <td>3300000</td>\n",
       "      <td>23300000</td>\n",
       "      <td>7900000</td>\n",
       "      <td>Rejected</td>\n",
       "    </tr>\n",
       "    <tr>\n",
       "      <th>4</th>\n",
       "      <td>5</td>\n",
       "      <td>Not Graduate</td>\n",
       "      <td>Yes</td>\n",
       "      <td>9800000</td>\n",
       "      <td>24200000</td>\n",
       "      <td>20</td>\n",
       "      <td>382</td>\n",
       "      <td>12400000</td>\n",
       "      <td>8200000</td>\n",
       "      <td>29400000</td>\n",
       "      <td>5000000</td>\n",
       "      <td>Rejected</td>\n",
       "    </tr>\n",
       "    <tr>\n",
       "      <th>...</th>\n",
       "      <td>...</td>\n",
       "      <td>...</td>\n",
       "      <td>...</td>\n",
       "      <td>...</td>\n",
       "      <td>...</td>\n",
       "      <td>...</td>\n",
       "      <td>...</td>\n",
       "      <td>...</td>\n",
       "      <td>...</td>\n",
       "      <td>...</td>\n",
       "      <td>...</td>\n",
       "      <td>...</td>\n",
       "    </tr>\n",
       "    <tr>\n",
       "      <th>4264</th>\n",
       "      <td>5</td>\n",
       "      <td>Graduate</td>\n",
       "      <td>Yes</td>\n",
       "      <td>1000000</td>\n",
       "      <td>2300000</td>\n",
       "      <td>12</td>\n",
       "      <td>317</td>\n",
       "      <td>2800000</td>\n",
       "      <td>500000</td>\n",
       "      <td>3300000</td>\n",
       "      <td>800000</td>\n",
       "      <td>Rejected</td>\n",
       "    </tr>\n",
       "    <tr>\n",
       "      <th>4265</th>\n",
       "      <td>0</td>\n",
       "      <td>Not Graduate</td>\n",
       "      <td>Yes</td>\n",
       "      <td>3300000</td>\n",
       "      <td>11300000</td>\n",
       "      <td>20</td>\n",
       "      <td>559</td>\n",
       "      <td>4200000</td>\n",
       "      <td>2900000</td>\n",
       "      <td>11000000</td>\n",
       "      <td>1900000</td>\n",
       "      <td>Approved</td>\n",
       "    </tr>\n",
       "    <tr>\n",
       "      <th>4266</th>\n",
       "      <td>2</td>\n",
       "      <td>Not Graduate</td>\n",
       "      <td>No</td>\n",
       "      <td>6500000</td>\n",
       "      <td>23900000</td>\n",
       "      <td>18</td>\n",
       "      <td>457</td>\n",
       "      <td>1200000</td>\n",
       "      <td>12400000</td>\n",
       "      <td>18100000</td>\n",
       "      <td>7300000</td>\n",
       "      <td>Rejected</td>\n",
       "    </tr>\n",
       "    <tr>\n",
       "      <th>4267</th>\n",
       "      <td>1</td>\n",
       "      <td>Not Graduate</td>\n",
       "      <td>No</td>\n",
       "      <td>4100000</td>\n",
       "      <td>12800000</td>\n",
       "      <td>8</td>\n",
       "      <td>780</td>\n",
       "      <td>8200000</td>\n",
       "      <td>700000</td>\n",
       "      <td>14100000</td>\n",
       "      <td>5800000</td>\n",
       "      <td>Approved</td>\n",
       "    </tr>\n",
       "    <tr>\n",
       "      <th>4268</th>\n",
       "      <td>1</td>\n",
       "      <td>Graduate</td>\n",
       "      <td>No</td>\n",
       "      <td>9200000</td>\n",
       "      <td>29700000</td>\n",
       "      <td>10</td>\n",
       "      <td>607</td>\n",
       "      <td>17800000</td>\n",
       "      <td>11800000</td>\n",
       "      <td>35700000</td>\n",
       "      <td>12000000</td>\n",
       "      <td>Approved</td>\n",
       "    </tr>\n",
       "  </tbody>\n",
       "</table>\n",
       "<p>4269 rows × 12 columns</p>\n",
       "</div>"
      ],
      "text/plain": [
       "       no_of_dependents      education  self_employed   income_annum  \\\n",
       "0                     2       Graduate             No        9600000   \n",
       "1                     0   Not Graduate            Yes        4100000   \n",
       "2                     3       Graduate             No        9100000   \n",
       "3                     3       Graduate             No        8200000   \n",
       "4                     5   Not Graduate            Yes        9800000   \n",
       "...                 ...            ...            ...            ...   \n",
       "4264                  5       Graduate            Yes        1000000   \n",
       "4265                  0   Not Graduate            Yes        3300000   \n",
       "4266                  2   Not Graduate             No        6500000   \n",
       "4267                  1   Not Graduate             No        4100000   \n",
       "4268                  1       Graduate             No        9200000   \n",
       "\n",
       "       loan_amount   loan_term   cibil_score   residential_assets_value  \\\n",
       "0         29900000          12           778                    2400000   \n",
       "1         12200000           8           417                    2700000   \n",
       "2         29700000          20           506                    7100000   \n",
       "3         30700000           8           467                   18200000   \n",
       "4         24200000          20           382                   12400000   \n",
       "...            ...         ...           ...                        ...   \n",
       "4264       2300000          12           317                    2800000   \n",
       "4265      11300000          20           559                    4200000   \n",
       "4266      23900000          18           457                    1200000   \n",
       "4267      12800000           8           780                    8200000   \n",
       "4268      29700000          10           607                   17800000   \n",
       "\n",
       "       commercial_assets_value   luxury_assets_value   bank_asset_value  \\\n",
       "0                     17600000              22700000            8000000   \n",
       "1                      2200000               8800000            3300000   \n",
       "2                      4500000              33300000           12800000   \n",
       "3                      3300000              23300000            7900000   \n",
       "4                      8200000              29400000            5000000   \n",
       "...                        ...                   ...                ...   \n",
       "4264                    500000               3300000             800000   \n",
       "4265                   2900000              11000000            1900000   \n",
       "4266                  12400000              18100000            7300000   \n",
       "4267                    700000              14100000            5800000   \n",
       "4268                  11800000              35700000           12000000   \n",
       "\n",
       "      loan_status  \n",
       "0        Approved  \n",
       "1        Rejected  \n",
       "2        Rejected  \n",
       "3        Rejected  \n",
       "4        Rejected  \n",
       "...           ...  \n",
       "4264     Rejected  \n",
       "4265     Approved  \n",
       "4266     Rejected  \n",
       "4267     Approved  \n",
       "4268     Approved  \n",
       "\n",
       "[4269 rows x 12 columns]"
      ]
     },
     "execution_count": 33,
     "metadata": {},
     "output_type": "execute_result"
    }
   ],
   "source": [
    "df_la"
   ]
  },
  {
   "cell_type": "code",
   "execution_count": 30,
   "id": "add224a2",
   "metadata": {},
   "outputs": [],
   "source": [
    "df_la=df_la.dropna()"
   ]
  },
  {
   "cell_type": "code",
   "execution_count": 31,
   "id": "53fc0b46",
   "metadata": {},
   "outputs": [
    {
     "data": {
      "text/plain": [
       "(4269, 12)"
      ]
     },
     "execution_count": 31,
     "metadata": {},
     "output_type": "execute_result"
    }
   ],
   "source": [
    "df_la.shape"
   ]
  },
  {
   "cell_type": "code",
   "execution_count": 34,
   "id": "44a8845e",
   "metadata": {},
   "outputs": [],
   "source": [
    "df_num = df_la.select_dtypes(include='number')"
   ]
  },
  {
   "cell_type": "code",
   "execution_count": 35,
   "id": "5c464cf0",
   "metadata": {},
   "outputs": [
    {
     "data": {
      "text/html": [
       "<div>\n",
       "<style scoped>\n",
       "    .dataframe tbody tr th:only-of-type {\n",
       "        vertical-align: middle;\n",
       "    }\n",
       "\n",
       "    .dataframe tbody tr th {\n",
       "        vertical-align: top;\n",
       "    }\n",
       "\n",
       "    .dataframe thead th {\n",
       "        text-align: right;\n",
       "    }\n",
       "</style>\n",
       "<table border=\"1\" class=\"dataframe\">\n",
       "  <thead>\n",
       "    <tr style=\"text-align: right;\">\n",
       "      <th></th>\n",
       "      <th>no_of_dependents</th>\n",
       "      <th>income_annum</th>\n",
       "      <th>loan_amount</th>\n",
       "      <th>loan_term</th>\n",
       "      <th>cibil_score</th>\n",
       "      <th>residential_assets_value</th>\n",
       "      <th>commercial_assets_value</th>\n",
       "      <th>luxury_assets_value</th>\n",
       "      <th>bank_asset_value</th>\n",
       "    </tr>\n",
       "  </thead>\n",
       "  <tbody>\n",
       "    <tr>\n",
       "      <th>0</th>\n",
       "      <td>2</td>\n",
       "      <td>9600000</td>\n",
       "      <td>29900000</td>\n",
       "      <td>12</td>\n",
       "      <td>778</td>\n",
       "      <td>2400000</td>\n",
       "      <td>17600000</td>\n",
       "      <td>22700000</td>\n",
       "      <td>8000000</td>\n",
       "    </tr>\n",
       "    <tr>\n",
       "      <th>1</th>\n",
       "      <td>0</td>\n",
       "      <td>4100000</td>\n",
       "      <td>12200000</td>\n",
       "      <td>8</td>\n",
       "      <td>417</td>\n",
       "      <td>2700000</td>\n",
       "      <td>2200000</td>\n",
       "      <td>8800000</td>\n",
       "      <td>3300000</td>\n",
       "    </tr>\n",
       "    <tr>\n",
       "      <th>2</th>\n",
       "      <td>3</td>\n",
       "      <td>9100000</td>\n",
       "      <td>29700000</td>\n",
       "      <td>20</td>\n",
       "      <td>506</td>\n",
       "      <td>7100000</td>\n",
       "      <td>4500000</td>\n",
       "      <td>33300000</td>\n",
       "      <td>12800000</td>\n",
       "    </tr>\n",
       "  </tbody>\n",
       "</table>\n",
       "</div>"
      ],
      "text/plain": [
       "    no_of_dependents   income_annum   loan_amount   loan_term   cibil_score  \\\n",
       "0                  2        9600000      29900000          12           778   \n",
       "1                  0        4100000      12200000           8           417   \n",
       "2                  3        9100000      29700000          20           506   \n",
       "\n",
       "    residential_assets_value   commercial_assets_value   luxury_assets_value  \\\n",
       "0                    2400000                  17600000              22700000   \n",
       "1                    2700000                   2200000               8800000   \n",
       "2                    7100000                   4500000              33300000   \n",
       "\n",
       "    bank_asset_value  \n",
       "0            8000000  \n",
       "1            3300000  \n",
       "2           12800000  "
      ]
     },
     "execution_count": 35,
     "metadata": {},
     "output_type": "execute_result"
    }
   ],
   "source": [
    "df_num.head(3)"
   ]
  },
  {
   "cell_type": "markdown",
   "id": "55e4f33c",
   "metadata": {},
   "source": [
    "### Removal Of Outliers"
   ]
  },
  {
   "cell_type": "code",
   "execution_count": 59,
   "id": "9466e567",
   "metadata": {},
   "outputs": [],
   "source": [
    "Q1 = df_num.quantile(0.25)\n",
    "Q3 = df_num.quantile(0.75)\n",
    "IQR = Q3 - Q1\n",
    "lower_bound = Q1 - 1.5 * IQR\n",
    "upper_bound = Q3 + 1.5 * IQR"
   ]
  },
  {
   "cell_type": "code",
   "execution_count": 60,
   "id": "5876084c",
   "metadata": {},
   "outputs": [
    {
     "data": {
      "text/plain": [
       " no_of_dependents                  -3.5\n",
       " income_annum                -4500000.0\n",
       " loan_amount                -13000000.0\n",
       " loan_term                         -9.0\n",
       " cibil_score                       10.5\n",
       " residential_assets_value   -11450000.0\n",
       " commercial_assets_value     -8150000.0\n",
       " luxury_assets_value        -13800000.0\n",
       " bank_asset_value            -4900000.0\n",
       "dtype: float64"
      ]
     },
     "execution_count": 60,
     "metadata": {},
     "output_type": "execute_result"
    }
   ],
   "source": [
    "lower_bound"
   ]
  },
  {
   "cell_type": "code",
   "execution_count": 61,
   "id": "46a7b7a0",
   "metadata": {},
   "outputs": [
    {
     "data": {
      "text/plain": [
       " no_of_dependents                   8.5\n",
       " income_annum                14700000.0\n",
       " loan_amount                 42200000.0\n",
       " loan_term                         31.0\n",
       " cibil_score                     1190.5\n",
       " residential_assets_value    24950000.0\n",
       " commercial_assets_value     17050000.0\n",
       " luxury_assets_value         43000000.0\n",
       " bank_asset_value            14300000.0\n",
       "dtype: float64"
      ]
     },
     "execution_count": 61,
     "metadata": {},
     "output_type": "execute_result"
    }
   ],
   "source": [
    "upper_bound"
   ]
  },
  {
   "cell_type": "code",
   "execution_count": null,
   "id": "0782becd",
   "metadata": {},
   "outputs": [],
   "source": [
    "df_la = df_la[~((df_num < lower_bound) | (df_num > upper_bound)).any(axis=1)]"
   ]
  },
  {
   "cell_type": "code",
   "execution_count": 63,
   "id": "bc737eac",
   "metadata": {},
   "outputs": [
    {
     "data": {
      "text/plain": [
       "(4178, 12)"
      ]
     },
     "execution_count": 63,
     "metadata": {},
     "output_type": "execute_result"
    }
   ],
   "source": [
    "df_la.shape"
   ]
  },
  {
   "cell_type": "code",
   "execution_count": 57,
   "id": "100dd4ca",
   "metadata": {},
   "outputs": [
    {
     "data": {
      "image/png": "[encoded data removed]",
      "text/plain": [
       "<Figure size 800x500 with 1 Axes>"
      ]
     },
     "metadata": {},
     "output_type": "display_data"
    }
   ],
   "source": [
    "plt.figure(figsize=(8, 5))\n",
    "sns.boxplot(x=df_la[' residential_assets_value'])\n",
    "plt.title('Box Plot of residential assets value')\n",
    "plt.xlabel('residential assets value')\n",
    "plt.show()"
   ]
  },
  {
   "cell_type": "code",
   "execution_count": 58,
   "id": "cdf84bdf",
   "metadata": {},
   "outputs": [
    {
     "data": {
      "image/png": "[encoded data removed]",
      "text/plain": [
       "<Figure size 800x500 with 1 Axes>"
      ]
     },
     "metadata": {},
     "output_type": "display_data"
    }
   ],
   "source": [
    "plt.figure(figsize=(8, 5))\n",
    "sns.boxplot(x=df_la[' commercial_assets_value'])\n",
    "plt.title('Box Plot of commercial assets value')\n",
    "plt.xlabel('commercial assets value')\n",
    "plt.show()"
   ]
  },
  {
   "cell_type": "code",
   "execution_count": 64,
   "id": "ee702361",
   "metadata": {},
   "outputs": [
    {
     "data": {
      "text/html": [
       "<div>\n",
       "<style scoped>\n",
       "    .dataframe tbody tr th:only-of-type {\n",
       "        vertical-align: middle;\n",
       "    }\n",
       "\n",
       "    .dataframe tbody tr th {\n",
       "        vertical-align: top;\n",
       "    }\n",
       "\n",
       "    .dataframe thead th {\n",
       "        text-align: right;\n",
       "    }\n",
       "</style>\n",
       "<table border=\"1\" class=\"dataframe\">\n",
       "  <thead>\n",
       "    <tr style=\"text-align: right;\">\n",
       "      <th></th>\n",
       "      <th>no_of_dependents</th>\n",
       "      <th>education</th>\n",
       "      <th>self_employed</th>\n",
       "      <th>income_annum</th>\n",
       "      <th>loan_amount</th>\n",
       "      <th>loan_term</th>\n",
       "      <th>cibil_score</th>\n",
       "      <th>residential_assets_value</th>\n",
       "      <th>commercial_assets_value</th>\n",
       "      <th>luxury_assets_value</th>\n",
       "      <th>bank_asset_value</th>\n",
       "    </tr>\n",
       "  </thead>\n",
       "  <tbody>\n",
       "    <tr>\n",
       "      <th>1</th>\n",
       "      <td>0</td>\n",
       "      <td>Not Graduate</td>\n",
       "      <td>Yes</td>\n",
       "      <td>4100000</td>\n",
       "      <td>12200000</td>\n",
       "      <td>8</td>\n",
       "      <td>417</td>\n",
       "      <td>2700000</td>\n",
       "      <td>2200000</td>\n",
       "      <td>8800000</td>\n",
       "      <td>3300000</td>\n",
       "    </tr>\n",
       "    <tr>\n",
       "      <th>2</th>\n",
       "      <td>3</td>\n",
       "      <td>Graduate</td>\n",
       "      <td>No</td>\n",
       "      <td>9100000</td>\n",
       "      <td>29700000</td>\n",
       "      <td>20</td>\n",
       "      <td>506</td>\n",
       "      <td>7100000</td>\n",
       "      <td>4500000</td>\n",
       "      <td>33300000</td>\n",
       "      <td>12800000</td>\n",
       "    </tr>\n",
       "    <tr>\n",
       "      <th>3</th>\n",
       "      <td>3</td>\n",
       "      <td>Graduate</td>\n",
       "      <td>No</td>\n",
       "      <td>8200000</td>\n",
       "      <td>30700000</td>\n",
       "      <td>8</td>\n",
       "      <td>467</td>\n",
       "      <td>18200000</td>\n",
       "      <td>3300000</td>\n",
       "      <td>23300000</td>\n",
       "      <td>7900000</td>\n",
       "    </tr>\n",
       "    <tr>\n",
       "      <th>4</th>\n",
       "      <td>5</td>\n",
       "      <td>Not Graduate</td>\n",
       "      <td>Yes</td>\n",
       "      <td>9800000</td>\n",
       "      <td>24200000</td>\n",
       "      <td>20</td>\n",
       "      <td>382</td>\n",
       "      <td>12400000</td>\n",
       "      <td>8200000</td>\n",
       "      <td>29400000</td>\n",
       "      <td>5000000</td>\n",
       "    </tr>\n",
       "    <tr>\n",
       "      <th>5</th>\n",
       "      <td>0</td>\n",
       "      <td>Graduate</td>\n",
       "      <td>Yes</td>\n",
       "      <td>4800000</td>\n",
       "      <td>13500000</td>\n",
       "      <td>10</td>\n",
       "      <td>319</td>\n",
       "      <td>6800000</td>\n",
       "      <td>8300000</td>\n",
       "      <td>13700000</td>\n",
       "      <td>5100000</td>\n",
       "    </tr>\n",
       "  </tbody>\n",
       "</table>\n",
       "</div>"
      ],
      "text/plain": [
       "    no_of_dependents      education  self_employed   income_annum  \\\n",
       "1                  0   Not Graduate            Yes        4100000   \n",
       "2                  3       Graduate             No        9100000   \n",
       "3                  3       Graduate             No        8200000   \n",
       "4                  5   Not Graduate            Yes        9800000   \n",
       "5                  0       Graduate            Yes        4800000   \n",
       "\n",
       "    loan_amount   loan_term   cibil_score   residential_assets_value  \\\n",
       "1      12200000           8           417                    2700000   \n",
       "2      29700000          20           506                    7100000   \n",
       "3      30700000           8           467                   18200000   \n",
       "4      24200000          20           382                   12400000   \n",
       "5      13500000          10           319                    6800000   \n",
       "\n",
       "    commercial_assets_value   luxury_assets_value   bank_asset_value  \n",
       "1                   2200000               8800000            3300000  \n",
       "2                   4500000              33300000           12800000  \n",
       "3                   3300000              23300000            7900000  \n",
       "4                   8200000              29400000            5000000  \n",
       "5                   8300000              13700000            5100000  "
      ]
     },
     "execution_count": 64,
     "metadata": {},
     "output_type": "execute_result"
    }
   ],
   "source": [
    "X = df_la.drop(' loan_status', axis=1)\n",
    "y = df_la[' loan_status']\n",
    "X.head()"
   ]
  },
  {
   "cell_type": "code",
   "execution_count": 65,
   "id": "9caf6231",
   "metadata": {},
   "outputs": [
    {
     "data": {
      "text/html": [
       "<div>\n",
       "<style scoped>\n",
       "    .dataframe tbody tr th:only-of-type {\n",
       "        vertical-align: middle;\n",
       "    }\n",
       "\n",
       "    .dataframe tbody tr th {\n",
       "        vertical-align: top;\n",
       "    }\n",
       "\n",
       "    .dataframe thead th {\n",
       "        text-align: right;\n",
       "    }\n",
       "</style>\n",
       "<table border=\"1\" class=\"dataframe\">\n",
       "  <thead>\n",
       "    <tr style=\"text-align: right;\">\n",
       "      <th></th>\n",
       "      <th>no_of_dependents</th>\n",
       "      <th>income_annum</th>\n",
       "      <th>loan_amount</th>\n",
       "      <th>loan_term</th>\n",
       "      <th>cibil_score</th>\n",
       "      <th>residential_assets_value</th>\n",
       "      <th>commercial_assets_value</th>\n",
       "      <th>luxury_assets_value</th>\n",
       "      <th>bank_asset_value</th>\n",
       "    </tr>\n",
       "  </thead>\n",
       "  <tbody>\n",
       "    <tr>\n",
       "      <th>1</th>\n",
       "      <td>0</td>\n",
       "      <td>4100000</td>\n",
       "      <td>12200000</td>\n",
       "      <td>8</td>\n",
       "      <td>417</td>\n",
       "      <td>2700000</td>\n",
       "      <td>2200000</td>\n",
       "      <td>8800000</td>\n",
       "      <td>3300000</td>\n",
       "    </tr>\n",
       "    <tr>\n",
       "      <th>2</th>\n",
       "      <td>3</td>\n",
       "      <td>9100000</td>\n",
       "      <td>29700000</td>\n",
       "      <td>20</td>\n",
       "      <td>506</td>\n",
       "      <td>7100000</td>\n",
       "      <td>4500000</td>\n",
       "      <td>33300000</td>\n",
       "      <td>12800000</td>\n",
       "    </tr>\n",
       "    <tr>\n",
       "      <th>3</th>\n",
       "      <td>3</td>\n",
       "      <td>8200000</td>\n",
       "      <td>30700000</td>\n",
       "      <td>8</td>\n",
       "      <td>467</td>\n",
       "      <td>18200000</td>\n",
       "      <td>3300000</td>\n",
       "      <td>23300000</td>\n",
       "      <td>7900000</td>\n",
       "    </tr>\n",
       "    <tr>\n",
       "      <th>4</th>\n",
       "      <td>5</td>\n",
       "      <td>9800000</td>\n",
       "      <td>24200000</td>\n",
       "      <td>20</td>\n",
       "      <td>382</td>\n",
       "      <td>12400000</td>\n",
       "      <td>8200000</td>\n",
       "      <td>29400000</td>\n",
       "      <td>5000000</td>\n",
       "    </tr>\n",
       "    <tr>\n",
       "      <th>5</th>\n",
       "      <td>0</td>\n",
       "      <td>4800000</td>\n",
       "      <td>13500000</td>\n",
       "      <td>10</td>\n",
       "      <td>319</td>\n",
       "      <td>6800000</td>\n",
       "      <td>8300000</td>\n",
       "      <td>13700000</td>\n",
       "      <td>5100000</td>\n",
       "    </tr>\n",
       "  </tbody>\n",
       "</table>\n",
       "</div>"
      ],
      "text/plain": [
       "    no_of_dependents   income_annum   loan_amount   loan_term   cibil_score  \\\n",
       "1                  0        4100000      12200000           8           417   \n",
       "2                  3        9100000      29700000          20           506   \n",
       "3                  3        8200000      30700000           8           467   \n",
       "4                  5        9800000      24200000          20           382   \n",
       "5                  0        4800000      13500000          10           319   \n",
       "\n",
       "    residential_assets_value   commercial_assets_value   luxury_assets_value  \\\n",
       "1                    2700000                   2200000               8800000   \n",
       "2                    7100000                   4500000              33300000   \n",
       "3                   18200000                   3300000              23300000   \n",
       "4                   12400000                   8200000              29400000   \n",
       "5                    6800000                   8300000              13700000   \n",
       "\n",
       "    bank_asset_value  \n",
       "1            3300000  \n",
       "2           12800000  \n",
       "3            7900000  \n",
       "4            5000000  \n",
       "5            5100000  "
      ]
     },
     "execution_count": 65,
     "metadata": {},
     "output_type": "execute_result"
    }
   ],
   "source": [
    "X_num = X.select_dtypes('number')\n",
    "X_num.head()"
   ]
  },
  {
   "cell_type": "code",
   "execution_count": 66,
   "id": "969587c4",
   "metadata": {},
   "outputs": [
    {
     "data": {
      "text/html": [
       "<div>\n",
       "<style scoped>\n",
       "    .dataframe tbody tr th:only-of-type {\n",
       "        vertical-align: middle;\n",
       "    }\n",
       "\n",
       "    .dataframe tbody tr th {\n",
       "        vertical-align: top;\n",
       "    }\n",
       "\n",
       "    .dataframe thead th {\n",
       "        text-align: right;\n",
       "    }\n",
       "</style>\n",
       "<table border=\"1\" class=\"dataframe\">\n",
       "  <thead>\n",
       "    <tr style=\"text-align: right;\">\n",
       "      <th></th>\n",
       "      <th>education</th>\n",
       "      <th>self_employed</th>\n",
       "    </tr>\n",
       "  </thead>\n",
       "  <tbody>\n",
       "    <tr>\n",
       "      <th>1</th>\n",
       "      <td>Not Graduate</td>\n",
       "      <td>Yes</td>\n",
       "    </tr>\n",
       "    <tr>\n",
       "      <th>2</th>\n",
       "      <td>Graduate</td>\n",
       "      <td>No</td>\n",
       "    </tr>\n",
       "    <tr>\n",
       "      <th>3</th>\n",
       "      <td>Graduate</td>\n",
       "      <td>No</td>\n",
       "    </tr>\n",
       "    <tr>\n",
       "      <th>4</th>\n",
       "      <td>Not Graduate</td>\n",
       "      <td>Yes</td>\n",
       "    </tr>\n",
       "    <tr>\n",
       "      <th>5</th>\n",
       "      <td>Graduate</td>\n",
       "      <td>Yes</td>\n",
       "    </tr>\n",
       "  </tbody>\n",
       "</table>\n",
       "</div>"
      ],
      "text/plain": [
       "       education  self_employed\n",
       "1   Not Graduate            Yes\n",
       "2       Graduate             No\n",
       "3       Graduate             No\n",
       "4   Not Graduate            Yes\n",
       "5       Graduate            Yes"
      ]
     },
     "execution_count": 66,
     "metadata": {},
     "output_type": "execute_result"
    }
   ],
   "source": [
    "X_cat = X.select_dtypes('object')\n",
    "X_cat.head()"
   ]
  },
  {
   "cell_type": "code",
   "execution_count": 67,
   "id": "45786fc0",
   "metadata": {},
   "outputs": [],
   "source": [
    "scaler = MinMaxScaler()\n",
    "X_num_scaled = scaler.fit_transform(X_num)"
   ]
  },
  {
   "cell_type": "code",
   "execution_count": 68,
   "id": "8c1008c3",
   "metadata": {},
   "outputs": [
    {
     "data": {
      "text/plain": [
       "numpy.ndarray"
      ]
     },
     "execution_count": 68,
     "metadata": {},
     "output_type": "execute_result"
    }
   ],
   "source": [
    "type(X_num_scaled)"
   ]
  },
  {
   "cell_type": "code",
   "execution_count": 69,
   "id": "55240933",
   "metadata": {},
   "outputs": [],
   "source": [
    "X_num_scaled = pd.DataFrame(X_num_scaled, columns=X_num.columns, index=X_num.index)"
   ]
  },
  {
   "cell_type": "code",
   "execution_count": 70,
   "id": "00e275dc",
   "metadata": {},
   "outputs": [
    {
     "data": {
      "text/html": [
       "<div>\n",
       "<style scoped>\n",
       "    .dataframe tbody tr th:only-of-type {\n",
       "        vertical-align: middle;\n",
       "    }\n",
       "\n",
       "    .dataframe tbody tr th {\n",
       "        vertical-align: top;\n",
       "    }\n",
       "\n",
       "    .dataframe thead th {\n",
       "        text-align: right;\n",
       "    }\n",
       "</style>\n",
       "<table border=\"1\" class=\"dataframe\">\n",
       "  <thead>\n",
       "    <tr style=\"text-align: right;\">\n",
       "      <th></th>\n",
       "      <th>no_of_dependents</th>\n",
       "      <th>income_annum</th>\n",
       "      <th>loan_amount</th>\n",
       "      <th>loan_term</th>\n",
       "      <th>cibil_score</th>\n",
       "      <th>residential_assets_value</th>\n",
       "      <th>commercial_assets_value</th>\n",
       "      <th>luxury_assets_value</th>\n",
       "      <th>bank_asset_value</th>\n",
       "    </tr>\n",
       "  </thead>\n",
       "  <tbody>\n",
       "    <tr>\n",
       "      <th>count</th>\n",
       "      <td>4178.000000</td>\n",
       "      <td>4178.000000</td>\n",
       "      <td>4178.000000</td>\n",
       "      <td>4178.000000</td>\n",
       "      <td>4178.000000</td>\n",
       "      <td>4178.000000</td>\n",
       "      <td>4178.000000</td>\n",
       "      <td>4178.000000</td>\n",
       "      <td>4178.000000</td>\n",
       "    </tr>\n",
       "    <tr>\n",
       "      <th>mean</th>\n",
       "      <td>0.499904</td>\n",
       "      <td>0.491171</td>\n",
       "      <td>0.371842</td>\n",
       "      <td>0.493724</td>\n",
       "      <td>0.500323</td>\n",
       "      <td>0.291294</td>\n",
       "      <td>0.283315</td>\n",
       "      <td>0.374507</td>\n",
       "      <td>0.340890</td>\n",
       "    </tr>\n",
       "    <tr>\n",
       "      <th>std</th>\n",
       "      <td>0.338998</td>\n",
       "      <td>0.284678</td>\n",
       "      <td>0.227903</td>\n",
       "      <td>0.317028</td>\n",
       "      <td>0.287165</td>\n",
       "      <td>0.245402</td>\n",
       "      <td>0.247321</td>\n",
       "      <td>0.231252</td>\n",
       "      <td>0.222559</td>\n",
       "    </tr>\n",
       "    <tr>\n",
       "      <th>min</th>\n",
       "      <td>0.000000</td>\n",
       "      <td>0.000000</td>\n",
       "      <td>0.000000</td>\n",
       "      <td>0.000000</td>\n",
       "      <td>0.000000</td>\n",
       "      <td>0.000000</td>\n",
       "      <td>0.000000</td>\n",
       "      <td>0.000000</td>\n",
       "      <td>0.000000</td>\n",
       "    </tr>\n",
       "    <tr>\n",
       "      <th>25%</th>\n",
       "      <td>0.200000</td>\n",
       "      <td>0.247423</td>\n",
       "      <td>0.183673</td>\n",
       "      <td>0.222222</td>\n",
       "      <td>0.256667</td>\n",
       "      <td>0.088000</td>\n",
       "      <td>0.076471</td>\n",
       "      <td>0.179949</td>\n",
       "      <td>0.160839</td>\n",
       "    </tr>\n",
       "    <tr>\n",
       "      <th>50%</th>\n",
       "      <td>0.600000</td>\n",
       "      <td>0.494845</td>\n",
       "      <td>0.357143</td>\n",
       "      <td>0.444444</td>\n",
       "      <td>0.500000</td>\n",
       "      <td>0.224000</td>\n",
       "      <td>0.211765</td>\n",
       "      <td>0.359897</td>\n",
       "      <td>0.314685</td>\n",
       "    </tr>\n",
       "    <tr>\n",
       "      <th>75%</th>\n",
       "      <td>0.800000</td>\n",
       "      <td>0.739691</td>\n",
       "      <td>0.530612</td>\n",
       "      <td>0.777778</td>\n",
       "      <td>0.746667</td>\n",
       "      <td>0.444000</td>\n",
       "      <td>0.435294</td>\n",
       "      <td>0.537275</td>\n",
       "      <td>0.489510</td>\n",
       "    </tr>\n",
       "    <tr>\n",
       "      <th>max</th>\n",
       "      <td>1.000000</td>\n",
       "      <td>1.000000</td>\n",
       "      <td>1.000000</td>\n",
       "      <td>1.000000</td>\n",
       "      <td>1.000000</td>\n",
       "      <td>1.000000</td>\n",
       "      <td>1.000000</td>\n",
       "      <td>1.000000</td>\n",
       "      <td>1.000000</td>\n",
       "    </tr>\n",
       "  </tbody>\n",
       "</table>\n",
       "</div>"
      ],
      "text/plain": [
       "        no_of_dependents   income_annum   loan_amount    loan_term  \\\n",
       "count        4178.000000    4178.000000   4178.000000  4178.000000   \n",
       "mean            0.499904       0.491171      0.371842     0.493724   \n",
       "std             0.338998       0.284678      0.227903     0.317028   \n",
       "min             0.000000       0.000000      0.000000     0.000000   \n",
       "25%             0.200000       0.247423      0.183673     0.222222   \n",
       "50%             0.600000       0.494845      0.357143     0.444444   \n",
       "75%             0.800000       0.739691      0.530612     0.777778   \n",
       "max             1.000000       1.000000      1.000000     1.000000   \n",
       "\n",
       "        cibil_score   residential_assets_value   commercial_assets_value  \\\n",
       "count   4178.000000                4178.000000               4178.000000   \n",
       "mean       0.500323                   0.291294                  0.283315   \n",
       "std        0.287165                   0.245402                  0.247321   \n",
       "min        0.000000                   0.000000                  0.000000   \n",
       "25%        0.256667                   0.088000                  0.076471   \n",
       "50%        0.500000                   0.224000                  0.211765   \n",
       "75%        0.746667                   0.444000                  0.435294   \n",
       "max        1.000000                   1.000000                  1.000000   \n",
       "\n",
       "        luxury_assets_value   bank_asset_value  \n",
       "count           4178.000000        4178.000000  \n",
       "mean               0.374507           0.340890  \n",
       "std                0.231252           0.222559  \n",
       "min                0.000000           0.000000  \n",
       "25%                0.179949           0.160839  \n",
       "50%                0.359897           0.314685  \n",
       "75%                0.537275           0.489510  \n",
       "max                1.000000           1.000000  "
      ]
     },
     "execution_count": 70,
     "metadata": {},
     "output_type": "execute_result"
    }
   ],
   "source": [
    "X_num_scaled.describe()"
   ]
  },
  {
   "cell_type": "code",
   "execution_count": 71,
   "id": "107d11dc",
   "metadata": {},
   "outputs": [],
   "source": [
    "X_cat_encoded = pd.get_dummies(X_cat, drop_first=False, dtype=int) "
   ]
  },
  {
   "cell_type": "code",
   "execution_count": 72,
   "id": "7f9619d8",
   "metadata": {},
   "outputs": [],
   "source": [
    "X = pd.concat([X_num_scaled, X_cat_encoded], axis=1)"
   ]
  },
  {
   "cell_type": "code",
   "execution_count": 73,
   "id": "de33ba8a",
   "metadata": {},
   "outputs": [
    {
     "data": {
      "text/plain": [
       "((4178, 13), (4178, 9), (4178, 4))"
      ]
     },
     "execution_count": 73,
     "metadata": {},
     "output_type": "execute_result"
    }
   ],
   "source": [
    " X.shape, X_num_scaled.shape, X_cat_encoded.shape"
   ]
  },
  {
   "cell_type": "code",
   "execution_count": 74,
   "id": "cff3ae7e",
   "metadata": {},
   "outputs": [
    {
     "name": "stdout",
     "output_type": "stream",
     "text": [
      " no_of_dependents            0\n",
      " income_annum                0\n",
      " loan_amount                 0\n",
      " loan_term                   0\n",
      " cibil_score                 0\n",
      " residential_assets_value    0\n",
      " commercial_assets_value     0\n",
      " luxury_assets_value         0\n",
      " bank_asset_value            0\n",
      " education_ Graduate         0\n",
      " education_ Not Graduate     0\n",
      " self_employed_ No           0\n",
      " self_employed_ Yes          0\n",
      "dtype: int64\n",
      "0\n",
      "(4178, 13)\n",
      "(4178,)\n"
     ]
    }
   ],
   "source": [
    "print(X.isnull().sum())\n",
    "print(y.isnull().sum())\n",
    "print(X.shape)\n",
    "print(y.shape)"
   ]
  },
  {
   "cell_type": "code",
   "execution_count": 75,
   "id": "427be1fe",
   "metadata": {},
   "outputs": [
    {
     "data": {
      "text/html": [
       "<div>\n",
       "<style scoped>\n",
       "    .dataframe tbody tr th:only-of-type {\n",
       "        vertical-align: middle;\n",
       "    }\n",
       "\n",
       "    .dataframe tbody tr th {\n",
       "        vertical-align: top;\n",
       "    }\n",
       "\n",
       "    .dataframe thead th {\n",
       "        text-align: right;\n",
       "    }\n",
       "</style>\n",
       "<table border=\"1\" class=\"dataframe\">\n",
       "  <thead>\n",
       "    <tr style=\"text-align: right;\">\n",
       "      <th></th>\n",
       "      <th>no_of_dependents</th>\n",
       "      <th>income_annum</th>\n",
       "      <th>loan_amount</th>\n",
       "      <th>loan_term</th>\n",
       "      <th>cibil_score</th>\n",
       "      <th>residential_assets_value</th>\n",
       "      <th>commercial_assets_value</th>\n",
       "      <th>luxury_assets_value</th>\n",
       "      <th>bank_asset_value</th>\n",
       "      <th>education_ Graduate</th>\n",
       "      <th>education_ Not Graduate</th>\n",
       "      <th>self_employed_ No</th>\n",
       "      <th>self_employed_ Yes</th>\n",
       "    </tr>\n",
       "  </thead>\n",
       "  <tbody>\n",
       "    <tr>\n",
       "      <th>count</th>\n",
       "      <td>4178.000000</td>\n",
       "      <td>4178.000000</td>\n",
       "      <td>4178.000000</td>\n",
       "      <td>4178.000000</td>\n",
       "      <td>4178.000000</td>\n",
       "      <td>4178.000000</td>\n",
       "      <td>4178.000000</td>\n",
       "      <td>4178.000000</td>\n",
       "      <td>4178.000000</td>\n",
       "      <td>4178.000000</td>\n",
       "      <td>4178.000000</td>\n",
       "      <td>4178.000000</td>\n",
       "      <td>4178.000000</td>\n",
       "    </tr>\n",
       "    <tr>\n",
       "      <th>mean</th>\n",
       "      <td>0.499904</td>\n",
       "      <td>0.491171</td>\n",
       "      <td>0.371842</td>\n",
       "      <td>0.493724</td>\n",
       "      <td>0.500323</td>\n",
       "      <td>0.291294</td>\n",
       "      <td>0.283315</td>\n",
       "      <td>0.374507</td>\n",
       "      <td>0.340890</td>\n",
       "      <td>0.504548</td>\n",
       "      <td>0.495452</td>\n",
       "      <td>0.496649</td>\n",
       "      <td>0.503351</td>\n",
       "    </tr>\n",
       "    <tr>\n",
       "      <th>std</th>\n",
       "      <td>0.338998</td>\n",
       "      <td>0.284678</td>\n",
       "      <td>0.227903</td>\n",
       "      <td>0.317028</td>\n",
       "      <td>0.287165</td>\n",
       "      <td>0.245402</td>\n",
       "      <td>0.247321</td>\n",
       "      <td>0.231252</td>\n",
       "      <td>0.222559</td>\n",
       "      <td>0.500039</td>\n",
       "      <td>0.500039</td>\n",
       "      <td>0.500049</td>\n",
       "      <td>0.500049</td>\n",
       "    </tr>\n",
       "    <tr>\n",
       "      <th>min</th>\n",
       "      <td>0.000000</td>\n",
       "      <td>0.000000</td>\n",
       "      <td>0.000000</td>\n",
       "      <td>0.000000</td>\n",
       "      <td>0.000000</td>\n",
       "      <td>0.000000</td>\n",
       "      <td>0.000000</td>\n",
       "      <td>0.000000</td>\n",
       "      <td>0.000000</td>\n",
       "      <td>0.000000</td>\n",
       "      <td>0.000000</td>\n",
       "      <td>0.000000</td>\n",
       "      <td>0.000000</td>\n",
       "    </tr>\n",
       "    <tr>\n",
       "      <th>25%</th>\n",
       "      <td>0.200000</td>\n",
       "      <td>0.247423</td>\n",
       "      <td>0.183673</td>\n",
       "      <td>0.222222</td>\n",
       "      <td>0.256667</td>\n",
       "      <td>0.088000</td>\n",
       "      <td>0.076471</td>\n",
       "      <td>0.179949</td>\n",
       "      <td>0.160839</td>\n",
       "      <td>0.000000</td>\n",
       "      <td>0.000000</td>\n",
       "      <td>0.000000</td>\n",
       "      <td>0.000000</td>\n",
       "    </tr>\n",
       "    <tr>\n",
       "      <th>50%</th>\n",
       "      <td>0.600000</td>\n",
       "      <td>0.494845</td>\n",
       "      <td>0.357143</td>\n",
       "      <td>0.444444</td>\n",
       "      <td>0.500000</td>\n",
       "      <td>0.224000</td>\n",
       "      <td>0.211765</td>\n",
       "      <td>0.359897</td>\n",
       "      <td>0.314685</td>\n",
       "      <td>1.000000</td>\n",
       "      <td>0.000000</td>\n",
       "      <td>0.000000</td>\n",
       "      <td>1.000000</td>\n",
       "    </tr>\n",
       "    <tr>\n",
       "      <th>75%</th>\n",
       "      <td>0.800000</td>\n",
       "      <td>0.739691</td>\n",
       "      <td>0.530612</td>\n",
       "      <td>0.777778</td>\n",
       "      <td>0.746667</td>\n",
       "      <td>0.444000</td>\n",
       "      <td>0.435294</td>\n",
       "      <td>0.537275</td>\n",
       "      <td>0.489510</td>\n",
       "      <td>1.000000</td>\n",
       "      <td>1.000000</td>\n",
       "      <td>1.000000</td>\n",
       "      <td>1.000000</td>\n",
       "    </tr>\n",
       "    <tr>\n",
       "      <th>max</th>\n",
       "      <td>1.000000</td>\n",
       "      <td>1.000000</td>\n",
       "      <td>1.000000</td>\n",
       "      <td>1.000000</td>\n",
       "      <td>1.000000</td>\n",
       "      <td>1.000000</td>\n",
       "      <td>1.000000</td>\n",
       "      <td>1.000000</td>\n",
       "      <td>1.000000</td>\n",
       "      <td>1.000000</td>\n",
       "      <td>1.000000</td>\n",
       "      <td>1.000000</td>\n",
       "      <td>1.000000</td>\n",
       "    </tr>\n",
       "  </tbody>\n",
       "</table>\n",
       "</div>"
      ],
      "text/plain": [
       "        no_of_dependents   income_annum   loan_amount    loan_term  \\\n",
       "count        4178.000000    4178.000000   4178.000000  4178.000000   \n",
       "mean            0.499904       0.491171      0.371842     0.493724   \n",
       "std             0.338998       0.284678      0.227903     0.317028   \n",
       "min             0.000000       0.000000      0.000000     0.000000   \n",
       "25%             0.200000       0.247423      0.183673     0.222222   \n",
       "50%             0.600000       0.494845      0.357143     0.444444   \n",
       "75%             0.800000       0.739691      0.530612     0.777778   \n",
       "max             1.000000       1.000000      1.000000     1.000000   \n",
       "\n",
       "        cibil_score   residential_assets_value   commercial_assets_value  \\\n",
       "count   4178.000000                4178.000000               4178.000000   \n",
       "mean       0.500323                   0.291294                  0.283315   \n",
       "std        0.287165                   0.245402                  0.247321   \n",
       "min        0.000000                   0.000000                  0.000000   \n",
       "25%        0.256667                   0.088000                  0.076471   \n",
       "50%        0.500000                   0.224000                  0.211765   \n",
       "75%        0.746667                   0.444000                  0.435294   \n",
       "max        1.000000                   1.000000                  1.000000   \n",
       "\n",
       "        luxury_assets_value   bank_asset_value   education_ Graduate  \\\n",
       "count           4178.000000        4178.000000           4178.000000   \n",
       "mean               0.374507           0.340890              0.504548   \n",
       "std                0.231252           0.222559              0.500039   \n",
       "min                0.000000           0.000000              0.000000   \n",
       "25%                0.179949           0.160839              0.000000   \n",
       "50%                0.359897           0.314685              1.000000   \n",
       "75%                0.537275           0.489510              1.000000   \n",
       "max                1.000000           1.000000              1.000000   \n",
       "\n",
       "        education_ Not Graduate   self_employed_ No   self_employed_ Yes  \n",
       "count               4178.000000         4178.000000          4178.000000  \n",
       "mean                   0.495452            0.496649             0.503351  \n",
       "std                    0.500039            0.500049             0.500049  \n",
       "min                    0.000000            0.000000             0.000000  \n",
       "25%                    0.000000            0.000000             0.000000  \n",
       "50%                    0.000000            0.000000             1.000000  \n",
       "75%                    1.000000            1.000000             1.000000  \n",
       "max                    1.000000            1.000000             1.000000  "
      ]
     },
     "execution_count": 75,
     "metadata": {},
     "output_type": "execute_result"
    }
   ],
   "source": [
    "X.describe()"
   ]
  },
  {
   "cell_type": "code",
   "execution_count": 113,
   "id": "096345de",
   "metadata": {},
   "outputs": [],
   "source": [
    "X = X[[' cibil_score',' loan_amount',' loan_term']]\n"
   ]
  },
  {
   "cell_type": "code",
   "execution_count": 123,
   "id": "f2413dd9",
   "metadata": {},
   "outputs": [
    {
     "data": {
      "text/plain": [
       "1        Rejected\n",
       "2        Rejected\n",
       "3        Rejected\n",
       "4        Rejected\n",
       "5        Rejected\n",
       "          ...    \n",
       "4264     Rejected\n",
       "4265     Approved\n",
       "4266     Rejected\n",
       "4267     Approved\n",
       "4268     Approved\n",
       "Name:  loan_status, Length: 4178, dtype: object"
      ]
     },
     "execution_count": 123,
     "metadata": {},
     "output_type": "execute_result"
    }
   ],
   "source": [
    "y"
   ]
  },
  {
   "cell_type": "code",
   "execution_count": 114,
   "id": "a96d5a92",
   "metadata": {},
   "outputs": [],
   "source": [
    "X_train, X_test, y_train, y_test = train_test_split(X, y, test_size=0.3, random_state=42)"
   ]
  },
  {
   "cell_type": "code",
   "execution_count": 115,
   "id": "a7fb5fc2",
   "metadata": {},
   "outputs": [
    {
     "name": "stdout",
     "output_type": "stream",
     "text": [
      "(2924, 3)\n",
      "(1254, 3)\n",
      "(2924,)\n",
      "(1254,)\n"
     ]
    }
   ],
   "source": [
    "print(X_train.shape)\n",
    "print(X_test.shape)\n",
    "print(y_train.shape) \n",
    "print(y_test.shape)"
   ]
  },
  {
   "cell_type": "markdown",
   "id": "60f74f2a",
   "metadata": {},
   "source": [
    "#### Decision Tree Classifier Algorithm"
   ]
  },
  {
   "cell_type": "code",
   "execution_count": 116,
   "id": "2262b500",
   "metadata": {},
   "outputs": [],
   "source": [
    "from sklearn.tree import DecisionTreeClassifier, export_graphviz, plot_tree"
   ]
  },
  {
   "cell_type": "code",
   "execution_count": 130,
   "id": "8d3e1af6",
   "metadata": {},
   "outputs": [],
   "source": [
    "clf = DecisionTreeClassifier(criterion='gini', random_state=0, max_depth=3)"
   ]
  },
  {
   "cell_type": "code",
   "execution_count": 131,
   "id": "78476a69",
   "metadata": {},
   "outputs": [],
   "source": [
    "model = clf.fit(X_train,y_train)"
   ]
  },
  {
   "cell_type": "code",
   "execution_count": 132,
   "id": "9b2ea0e3",
   "metadata": {},
   "outputs": [
    {
     "data": {
      "text/html": [
       "<div>\n",
       "<style scoped>\n",
       "    .dataframe tbody tr th:only-of-type {\n",
       "        vertical-align: middle;\n",
       "    }\n",
       "\n",
       "    .dataframe tbody tr th {\n",
       "        vertical-align: top;\n",
       "    }\n",
       "\n",
       "    .dataframe thead th {\n",
       "        text-align: right;\n",
       "    }\n",
       "</style>\n",
       "<table border=\"1\" class=\"dataframe\">\n",
       "  <thead>\n",
       "    <tr style=\"text-align: right;\">\n",
       "      <th></th>\n",
       "      <th>features</th>\n",
       "      <th>importance</th>\n",
       "    </tr>\n",
       "  </thead>\n",
       "  <tbody>\n",
       "    <tr>\n",
       "      <th>1</th>\n",
       "      <td>loan_amount</td>\n",
       "      <td>0.012837</td>\n",
       "    </tr>\n",
       "    <tr>\n",
       "      <th>2</th>\n",
       "      <td>loan_term</td>\n",
       "      <td>0.077794</td>\n",
       "    </tr>\n",
       "    <tr>\n",
       "      <th>0</th>\n",
       "      <td>cibil_score</td>\n",
       "      <td>0.909369</td>\n",
       "    </tr>\n",
       "  </tbody>\n",
       "</table>\n",
       "</div>"
      ],
      "text/plain": [
       "       features  importance\n",
       "1   loan_amount    0.012837\n",
       "2     loan_term    0.077794\n",
       "0   cibil_score    0.909369"
      ]
     },
     "execution_count": 132,
     "metadata": {},
     "output_type": "execute_result"
    }
   ],
   "source": [
    "# feature importance\n",
    "df1 = pd.DataFrame({'features':model.feature_names_in_, 'importance':model.feature_importances_})\n",
    "df1.sort_values(by='importance')"
   ]
  },
  {
   "cell_type": "code",
   "execution_count": 133,
   "id": "8b780fa6",
   "metadata": {},
   "outputs": [
    {
     "data": {
      "text/html": [
       "<div>\n",
       "<style scoped>\n",
       "    .dataframe tbody tr th:only-of-type {\n",
       "        vertical-align: middle;\n",
       "    }\n",
       "\n",
       "    .dataframe tbody tr th {\n",
       "        vertical-align: top;\n",
       "    }\n",
       "\n",
       "    .dataframe thead th {\n",
       "        text-align: right;\n",
       "    }\n",
       "</style>\n",
       "<table border=\"1\" class=\"dataframe\">\n",
       "  <thead>\n",
       "    <tr style=\"text-align: right;\">\n",
       "      <th></th>\n",
       "      <th>cibil_score</th>\n",
       "      <th>loan_amount</th>\n",
       "      <th>loan_term</th>\n",
       "    </tr>\n",
       "  </thead>\n",
       "  <tbody>\n",
       "    <tr>\n",
       "      <th>1</th>\n",
       "      <td>0.195000</td>\n",
       "      <td>0.303571</td>\n",
       "      <td>0.333333</td>\n",
       "    </tr>\n",
       "    <tr>\n",
       "      <th>2</th>\n",
       "      <td>0.343333</td>\n",
       "      <td>0.750000</td>\n",
       "      <td>1.000000</td>\n",
       "    </tr>\n",
       "    <tr>\n",
       "      <th>3</th>\n",
       "      <td>0.278333</td>\n",
       "      <td>0.775510</td>\n",
       "      <td>0.333333</td>\n",
       "    </tr>\n",
       "    <tr>\n",
       "      <th>4</th>\n",
       "      <td>0.136667</td>\n",
       "      <td>0.609694</td>\n",
       "      <td>1.000000</td>\n",
       "    </tr>\n",
       "    <tr>\n",
       "      <th>5</th>\n",
       "      <td>0.031667</td>\n",
       "      <td>0.336735</td>\n",
       "      <td>0.444444</td>\n",
       "    </tr>\n",
       "    <tr>\n",
       "      <th>...</th>\n",
       "      <td>...</td>\n",
       "      <td>...</td>\n",
       "      <td>...</td>\n",
       "    </tr>\n",
       "    <tr>\n",
       "      <th>4264</th>\n",
       "      <td>0.028333</td>\n",
       "      <td>0.051020</td>\n",
       "      <td>0.555556</td>\n",
       "    </tr>\n",
       "    <tr>\n",
       "      <th>4265</th>\n",
       "      <td>0.431667</td>\n",
       "      <td>0.280612</td>\n",
       "      <td>1.000000</td>\n",
       "    </tr>\n",
       "    <tr>\n",
       "      <th>4266</th>\n",
       "      <td>0.261667</td>\n",
       "      <td>0.602041</td>\n",
       "      <td>0.888889</td>\n",
       "    </tr>\n",
       "    <tr>\n",
       "      <th>4267</th>\n",
       "      <td>0.800000</td>\n",
       "      <td>0.318878</td>\n",
       "      <td>0.333333</td>\n",
       "    </tr>\n",
       "    <tr>\n",
       "      <th>4268</th>\n",
       "      <td>0.511667</td>\n",
       "      <td>0.750000</td>\n",
       "      <td>0.444444</td>\n",
       "    </tr>\n",
       "  </tbody>\n",
       "</table>\n",
       "<p>4178 rows × 3 columns</p>\n",
       "</div>"
      ],
      "text/plain": [
       "       cibil_score   loan_amount   loan_term\n",
       "1         0.195000      0.303571    0.333333\n",
       "2         0.343333      0.750000    1.000000\n",
       "3         0.278333      0.775510    0.333333\n",
       "4         0.136667      0.609694    1.000000\n",
       "5         0.031667      0.336735    0.444444\n",
       "...            ...           ...         ...\n",
       "4264      0.028333      0.051020    0.555556\n",
       "4265      0.431667      0.280612    1.000000\n",
       "4266      0.261667      0.602041    0.888889\n",
       "4267      0.800000      0.318878    0.333333\n",
       "4268      0.511667      0.750000    0.444444\n",
       "\n",
       "[4178 rows x 3 columns]"
      ]
     },
     "execution_count": 133,
     "metadata": {},
     "output_type": "execute_result"
    }
   ],
   "source": [
    "X"
   ]
  },
  {
   "cell_type": "code",
   "execution_count": 134,
   "id": "327909be",
   "metadata": {},
   "outputs": [
    {
     "data": {
      "text/plain": [
       "Index([' cibil_score', ' loan_amount', ' loan_term'], dtype='object')"
      ]
     },
     "execution_count": 134,
     "metadata": {},
     "output_type": "execute_result"
    }
   ],
   "source": [
    "X.columns"
   ]
  },
  {
   "cell_type": "code",
   "execution_count": null,
   "id": "15a40bdc",
   "metadata": {},
   "outputs": [],
   "source": []
  },
  {
   "cell_type": "code",
   "execution_count": 135,
   "id": "d6554582",
   "metadata": {},
   "outputs": [
    {
     "data": {
      "text/plain": [
       "[Text(0.4583333333333333, 0.875, 'x[0] <= 0.416\\ngini = 0.47\\nsamples = 2924\\nvalue = [1820, 1104]'),\n",
       " Text(0.25, 0.625, 'x[2] <= 0.167\\ngini = 0.179\\nsamples = 1216\\nvalue = [121, 1095]'),\n",
       " Text(0.16666666666666666, 0.375, 'x[1] <= 0.659\\ngini = 0.5\\nsamples = 241\\nvalue = [121, 120]'),\n",
       " Text(0.08333333333333333, 0.125, 'gini = 0.489\\nsamples = 206\\nvalue = [88, 118]'),\n",
       " Text(0.25, 0.125, 'gini = 0.108\\nsamples = 35\\nvalue = [33, 2]'),\n",
       " Text(0.3333333333333333, 0.375, 'gini = 0.0\\nsamples = 975\\nvalue = [0, 975]'),\n",
       " Text(0.6666666666666666, 0.625, 'x[1] <= 0.024\\ngini = 0.01\\nsamples = 1708\\nvalue = [1699, 9]'),\n",
       " Text(0.5, 0.375, 'x[0] <= 0.973\\ngini = 0.075\\nsamples = 51\\nvalue = [49, 2]'),\n",
       " Text(0.4166666666666667, 0.125, 'gini = 0.043\\nsamples = 46\\nvalue = [45, 1]'),\n",
       " Text(0.5833333333333334, 0.125, 'gini = 0.32\\nsamples = 5\\nvalue = [4, 1]'),\n",
       " Text(0.8333333333333334, 0.375, 'x[1] <= 0.172\\ngini = 0.008\\nsamples = 1657\\nvalue = [1650, 7]'),\n",
       " Text(0.75, 0.125, 'gini = 0.022\\nsamples = 360\\nvalue = [356, 4]'),\n",
       " Text(0.9166666666666666, 0.125, 'gini = 0.005\\nsamples = 1297\\nvalue = [1294, 3]')]"
      ]
     },
     "execution_count": 135,
     "metadata": {},
     "output_type": "execute_result"
    },
    {
     "data": {
      "image/png": "[encoded data removed]",
      "text/plain": [
       "<Figure size 1500x1200 with 1 Axes>"
      ]
     },
     "metadata": {},
     "output_type": "display_data"
    }
   ],
   "source": [
    "plt.figure(figsize=(10,8), dpi=150)\n",
    "plot_tree(model)"
   ]
  }
 ],
 "metadata": {
  "kernelspec": {
   "display_name": "Python 3 (ipykernel)",
   "language": "python",
   "name": "python3"
  },
  "language_info": {
   "codemirror_mode": {
    "name": "ipython",
    "version": 3
   },
   "file_extension": ".py",
   "mimetype": "text/x-python",
   "name": "python",
   "nbconvert_exporter": "python",
   "pygments_lexer": "ipython3",
   "version": "3.11.3"
  }
 },
 "nbformat": 4,
 "nbformat_minor": 5
}
